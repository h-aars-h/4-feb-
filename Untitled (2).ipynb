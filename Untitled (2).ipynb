{
 "cells": [
  {
   "cell_type": "code",
   "execution_count": null,
   "id": "b8b47b2e-6377-4047-be89-d9dbeb1e15f4",
   "metadata": {},
   "outputs": [],
   "source": [
    "# Q1. Create a python program to sort the given list of tuples based on integer value using a\n",
    "# lambda function.\n",
    "# [('Sachin Tendulkar', 34357), ('Ricky Ponting', 27483), ('Jack Kallis', 25534), ('Virat Kohli', 24936)]\n",
    "# Ans 1=\n",
    "\n",
    "tuple_list=[('Sachin Tendulkar', 34357), ('Ricky Ponting', 27483), ('Jack Kallis', 25534), ('Virat Kohli', 24936)]\n",
    "sorted_list=sorted(tuple_list,key=))"
   ]
  },
  {
   "cell_type": "code",
   "execution_count": 1,
   "id": "f4482d23-9136-4119-b193-df4c60dfca71",
   "metadata": {},
   "outputs": [
    {
     "data": {
      "text/plain": [
       "[1, 4, 9, 16, 25, 36, 49, 64, 81, 100]"
      ]
     },
     "execution_count": 1,
     "metadata": {},
     "output_type": "execute_result"
    }
   ],
   "source": [
    "# Q2. Write a Python Program to find the squares of all the numbers in the given list of integers using\n",
    "# lambda and map functions.\n",
    "l=[1, 2, 3, 4, 5, 6, 7, 8, 9, 10]\n",
    "list(map(lambda x:x**2,l))"
   ]
  },
  {
   "cell_type": "code",
   "execution_count": 1,
   "id": "a7d80e5a-2d97-444f-bbb5-32ba588f2a18",
   "metadata": {},
   "outputs": [
    {
     "name": "stdout",
     "output_type": "stream",
     "text": [
      "('1', '2', '3', '4', '5', '6', '7', '8', '9', '10')\n"
     ]
    }
   ],
   "source": [
    "# Q3. Write a python program to convert the given list of integers into a tuple of strings. Use map and\n",
    "# lambda functions\n",
    "# Given String: [1, 2, 3, 4, 5, 6, 7, 8, 9, 10]\n",
    "# Expected output: ('1', '2', '3', '4', '5', '6', '7', '8', '9', '10')\n",
    "def convert_to_tuple_of_strings(lst):\n",
    "    return tuple(map(lambda x: str(x), lst))\n",
    "\n",
    "numbers = [1, 2, 3, 4, 5, 6, 7, 8, 9, 10]\n",
    "print(convert_to_tuple_of_strings(numbers))\n"
   ]
  },
  {
   "cell_type": "code",
   "execution_count": 19,
   "id": "db5b4412-3eaa-476f-9e2d-0a32d03f20e1",
   "metadata": {},
   "outputs": [
    {
     "name": "stdout",
     "output_type": "stream",
     "text": [
      "15511210043330985984000000\n"
     ]
    }
   ],
   "source": [
    "# Q4. Write a python program using reduce function to compute the product of a list containing numbers\n",
    "# from 1 to 25.\n",
    "\n",
    "from functools import reduce\n",
    "\n",
    "def product_of_numbers(lst):\n",
    "    return reduce(lambda x, y: x*y, lst)\n",
    "\n",
    "numbers = [x for x in range(1, 26)]\n",
    "print(product_of_numbers(numbers))\n"
   ]
  },
  {
   "cell_type": "code",
   "execution_count": 24,
   "id": "6570ad28-3dca-4636-aed2-7724d628e8b1",
   "metadata": {},
   "outputs": [
    {
     "ename": "SyntaxError",
     "evalue": "invalid syntax (2081055548.py, line 4)",
     "output_type": "error",
     "traceback": [
      "\u001b[0;36m  Cell \u001b[0;32mIn [24], line 4\u001b[0;36m\u001b[0m\n\u001b[0;31m    filter(lambda x:if x%2==0 elif x%3==0,l)\u001b[0m\n\u001b[0m                    ^\u001b[0m\n\u001b[0;31mSyntaxError\u001b[0m\u001b[0;31m:\u001b[0m invalid syntax\n"
     ]
    }
   ],
   "source": [
    "# Q5. Write a python program to filter the numbers in a given list that are divisible by 2 and 3 using the\n",
    "# filter function.\n",
    "l= [2, 3, 6, 9, 27, 60, 90, 120, 55, 46]\n",
    "filter(lambda x:if x%2==0 elif x%3==0,l)"
   ]
  },
  {
   "cell_type": "code",
   "execution_count": 28,
   "id": "1ea070b1-5ba1-4c04-898f-10ca5aed4afd",
   "metadata": {},
   "outputs": [
    {
     "data": {
      "text/plain": [
       "1"
      ]
     },
     "execution_count": 28,
     "metadata": {},
     "output_type": "execute_result"
    }
   ],
   "source": [
    "def enter_no_go(n):\n",
    "    for i in range(n):\n",
    "        \n",
    "        i=i+1\n",
    "        return i\n",
    "enter_no_go(25)"
   ]
  },
  {
   "cell_type": "code",
   "execution_count": null,
   "id": "dcae8952-caa1-4511-a173-71811972ce84",
   "metadata": {},
   "outputs": [],
   "source": [
    "# Q6. Write a python program to find palindromes in the given list of strings using lambda and filter\n",
    "# function.\n",
    "# ['python', 'php', 'aba', 'radar', 'level']\n",
    "# Ans 6\n",
    "strings_list = ['python', 'php', 'aba', 'radar', 'level']\n",
    "palindromes = list(filter(lambda x: x == x[::-1], strings_list))\n",
    "print(palindromes)\n"
   ]
  }
 ],
 "metadata": {
  "kernelspec": {
   "display_name": "Python 3 (ipykernel)",
   "language": "python",
   "name": "python3"
  },
  "language_info": {
   "codemirror_mode": {
    "name": "ipython",
    "version": 3
   },
   "file_extension": ".py",
   "mimetype": "text/x-python",
   "name": "python",
   "nbconvert_exporter": "python",
   "pygments_lexer": "ipython3",
   "version": "3.10.6"
  }
 },
 "nbformat": 4,
 "nbformat_minor": 5
}
